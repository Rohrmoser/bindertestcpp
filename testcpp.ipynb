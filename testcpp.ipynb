{
 "cells": [
  {
   "cell_type": "code",
   "execution_count": 2,
   "id": "5a2f9bf2",
   "metadata": {},
   "outputs": [
    {
     "name": "stdout",
     "output_type": "stream",
     "text": [
      "3.14\n"
     ]
    }
   ],
   "source": [
    "#include <iostream>\n",
    "using namespace std;\n",
    "double test;\n",
    "test=3.14;\n",
    "cout<<test<<endl;"
   ]
  },
  {
   "cell_type": "code",
   "execution_count": 3,
   "id": "87188eb3",
   "metadata": {},
   "outputs": [
    {
     "name": "stdout",
     "output_type": "stream",
     "text": [
      "5.69\n"
     ]
    }
   ],
   "source": [
    "cin>>test;"
   ]
  },
  {
   "cell_type": "code",
   "execution_count": 4,
   "id": "a2590fd8",
   "metadata": {},
   "outputs": [
    {
     "name": "stdout",
     "output_type": "stream",
     "text": [
      "35.7332\n"
     ]
    }
   ],
   "source": [
    "cout<<2.*test*3.14<<endl;"
   ]
  },
  {
   "cell_type": "code",
   "execution_count": null,
   "id": "bc0e9016",
   "metadata": {},
   "outputs": [],
   "source": []
  }
 ],
 "metadata": {
  "kernelspec": {
   "display_name": "C++17",
   "language": "C++17",
   "name": "xcpp17"
  },
  "language_info": {
   "codemirror_mode": "text/x-c++src",
   "file_extension": ".cpp",
   "mimetype": "text/x-c++src",
   "name": "c++",
   "version": "17"
  }
 },
 "nbformat": 4,
 "nbformat_minor": 5
}
