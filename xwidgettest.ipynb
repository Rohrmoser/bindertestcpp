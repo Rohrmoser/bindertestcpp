{
 "cells": [
  {
   "cell_type": "code",
   "execution_count": 1,
   "id": "c439a907",
   "metadata": {},
   "outputs": [],
   "source": [
    "#include \"xwidgets/xslider.hpp\""
   ]
  },
  {
   "cell_type": "code",
   "execution_count": 2,
   "id": "0c518d1e",
   "metadata": {},
   "outputs": [
    {
     "data": {
      "application/vnd.jupyter.widget-view+json": {
       "model_id": "0382a2bacd16430abdd5e5efd5b13a8b",
       "version_major": 2,
       "version_minor": 0
      },
      "text/plain": [
       "A Jupyter widget with unique id: 0382a2bacd16430abdd5e5efd5b13a8b"
      ]
     },
     "execution_count": 2,
     "metadata": {},
     "output_type": "execute_result"
    }
   ],
   "source": [
    "xw::slider<double> slider;\n",
    "\n",
    "slider                 // If the semicolon is ommitted in the last line, the return value is displayed.\n"
   ]
  },
  {
   "cell_type": "code",
   "execution_count": 3,
   "id": "af4ebd5d",
   "metadata": {},
   "outputs": [
    {
     "data": {
      "text/plain": [
       "20.000000"
      ]
     },
     "execution_count": 3,
     "metadata": {},
     "output_type": "execute_result"
    }
   ],
   "source": [
    "slider.value = 20;      // Modifying properties of widgets triggers the update of the frontend."
   ]
  },
  {
   "cell_type": "code",
   "execution_count": 4,
   "id": "f9ca5c0b",
   "metadata": {},
   "outputs": [
    {
     "data": {
      "text/plain": [
       "20.000000"
      ]
     },
     "execution_count": 4,
     "metadata": {},
     "output_type": "execute_result"
    }
   ],
   "source": [
    "slider.value()          // Reading the value requires using the call operator"
   ]
  },
  {
   "cell_type": "code",
   "execution_count": 5,
   "id": "6bc4ebdb",
   "metadata": {},
   "outputs": [],
   "source": [
    "// changine some more properties\n",
    "slider.max = 40;\n",
    "slider.style().handle_color = \"blue\";\n",
    "slider.orientation = \"vertical\";\n",
    "slider.description = \"A slider\";"
   ]
  },
  {
   "cell_type": "code",
   "execution_count": 6,
   "id": "8c159470",
   "metadata": {},
   "outputs": [],
   "source": [
    "#include \"xcpp/xdisplay.hpp\"\n",
    "\n",
    "using xcpp::display;"
   ]
  },
  {
   "cell_type": "code",
   "execution_count": 7,
   "id": "6fa1574a",
   "metadata": {},
   "outputs": [
    {
     "data": {
      "application/vnd.jupyter.widget-view+json": {
       "model_id": "0382a2bacd16430abdd5e5efd5b13a8b",
       "version_major": 2,
       "version_minor": 0
      },
      "text/plain": [
       "A Jupyter widget with unique id: 0382a2bacd16430abdd5e5efd5b13a8b"
      ]
     },
     "metadata": {},
     "output_type": "display_data"
    }
   ],
   "source": [
    "display(slider);       // xcpp::display can be called to explicitely trigger a the display of an object."
   ]
  },
  {
   "cell_type": "code",
   "execution_count": 8,
   "id": "89e963a0",
   "metadata": {},
   "outputs": [
    {
     "data": {
      "application/vnd.jupyter.widget-view+json": {
       "model_id": "0382a2bacd16430abdd5e5efd5b13a8b",
       "version_major": 2,
       "version_minor": 0
      },
      "text/plain": [
       "A Jupyter widget"
      ]
     },
     "metadata": {},
     "output_type": "display_data"
    }
   ],
   "source": [
    "slider.display();"
   ]
  },
  {
   "cell_type": "code",
   "execution_count": 11,
   "id": "612aeacd",
   "metadata": {},
   "outputs": [
    {
     "name": "stdout",
     "output_type": "stream",
     "text": [
      "4\n"
     ]
    }
   ],
   "source": [
    "#include <iostream>\n",
    "using namespace std;\n",
    "double x;\n",
    "cin>>x;"
   ]
  },
  {
   "cell_type": "code",
   "execution_count": 3,
   "id": "1693ae2c",
   "metadata": {},
   "outputs": [],
   "source": [
    "#include <xwidgets/xslider.hpp>"
   ]
  },
  {
   "cell_type": "code",
   "execution_count": 4,
   "id": "5fbde456",
   "metadata": {},
   "outputs": [
    {
     "data": {
      "application/vnd.jupyter.widget-view+json": {
       "model_id": "e0bace7b228c408c84980bb5bafa0475",
       "version_major": 2,
       "version_minor": 0
      },
      "text/plain": [
       "A Jupyter widget with unique id: e0bace7b228c408c84980bb5bafa0475"
      ]
     },
     "execution_count": 4,
     "metadata": {},
     "output_type": "execute_result"
    }
   ],
   "source": [
    "xw::slider<double> slider;\n",
    "\n",
    "slider  "
   ]
  },
  {
   "cell_type": "code",
   "execution_count": 1,
   "id": "5794cbdb",
   "metadata": {},
   "outputs": [],
   "source": [
    "#include \"xwidgets/xcheckbox.hpp\""
   ]
  },
  {
   "cell_type": "code",
   "execution_count": 5,
   "id": "a8d46676",
   "metadata": {},
   "outputs": [],
   "source": [
    "xw::checkbox checkbox;"
   ]
  },
  {
   "cell_type": "code",
   "execution_count": 6,
   "id": "2fe99954",
   "metadata": {},
   "outputs": [
    {
     "data": {
      "application/vnd.jupyter.widget-view+json": {
       "model_id": "293ba6bd42ab4749ba96585163269fad",
       "version_major": 2,
       "version_minor": 0
      },
      "text/plain": [
       "A Jupyter widget with unique id: 293ba6bd42ab4749ba96585163269fad"
      ]
     },
     "execution_count": 6,
     "metadata": {},
     "output_type": "execute_result"
    }
   ],
   "source": [
    "checkbox"
   ]
  },
  {
   "cell_type": "code",
   "execution_count": null,
   "id": "0bd55bf8",
   "metadata": {},
   "outputs": [],
   "source": []
  }
 ],
 "metadata": {
  "kernelspec": {
   "display_name": "C++17",
   "language": "C++17",
   "name": "xcpp17"
  },
  "language_info": {
   "codemirror_mode": "text/x-c++src",
   "file_extension": ".cpp",
   "mimetype": "text/x-c++src",
   "name": "c++",
   "version": "17"
  }
 },
 "nbformat": 4,
 "nbformat_minor": 5
}
